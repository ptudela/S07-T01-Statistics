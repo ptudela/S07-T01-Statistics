{
 "cells": [
  {
   "cell_type": "markdown",
   "id": "d5616949",
   "metadata": {},
   "source": [
    "# S07 T01: Tasca dades, probabilitats i estadístiques"
   ]
  },
  {
   "cell_type": "markdown",
   "id": "64751db3",
   "metadata": {},
   "source": [
    "## Nivell 1. Exercici 1\n",
    "### Agafa un conjunt de dades de tema esportiu que t'agradi i selecciona un atribut del conjunt de dades. Calcula la moda, la mediana, la desviació estàndard i la mitjana aritmètica. "
   ]
  },
  {
   "cell_type": "code",
   "execution_count": 35,
   "id": "07aba529",
   "metadata": {},
   "outputs": [],
   "source": [
    "# Pandas for managing datasets\n",
    "import pandas as pd\n",
    "import numpy as np\n",
    "\n",
    "# Matplotlib for additional customization\n",
    "\n",
    "import matplotlib.pyplot as plt\n",
    "%matplotlib inline\n",
    "\n",
    "# Seaborn for plotting and styling\n",
    "import seaborn as sns\n",
    "import random \n",
    "from scipy import stats\n",
    "from scipy.stats import gmean, hmean\n"
   ]
  },
  {
   "cell_type": "code",
   "execution_count": 2,
   "id": "e404ddcf",
   "metadata": {},
   "outputs": [
    {
     "data": {
      "text/html": [
       "<div>\n",
       "<style scoped>\n",
       "    .dataframe tbody tr th:only-of-type {\n",
       "        vertical-align: middle;\n",
       "    }\n",
       "\n",
       "    .dataframe tbody tr th {\n",
       "        vertical-align: top;\n",
       "    }\n",
       "\n",
       "    .dataframe thead th {\n",
       "        text-align: right;\n",
       "    }\n",
       "</style>\n",
       "<table border=\"1\" class=\"dataframe\">\n",
       "  <thead>\n",
       "    <tr style=\"text-align: right;\">\n",
       "      <th></th>\n",
       "      <th>Date</th>\n",
       "      <th>Game</th>\n",
       "      <th>Earnings</th>\n",
       "      <th>Players</th>\n",
       "      <th>Tournaments</th>\n",
       "    </tr>\n",
       "  </thead>\n",
       "  <tbody>\n",
       "    <tr>\n",
       "      <th>0</th>\n",
       "      <td>1998-01-01</td>\n",
       "      <td>QuakeWorld</td>\n",
       "      <td>15000.0</td>\n",
       "      <td>8</td>\n",
       "      <td>1</td>\n",
       "    </tr>\n",
       "    <tr>\n",
       "      <th>1</th>\n",
       "      <td>1998-05-01</td>\n",
       "      <td>Quake II</td>\n",
       "      <td>14600.0</td>\n",
       "      <td>4</td>\n",
       "      <td>1</td>\n",
       "    </tr>\n",
       "    <tr>\n",
       "      <th>2</th>\n",
       "      <td>1998-07-01</td>\n",
       "      <td>Quake II</td>\n",
       "      <td>15000.0</td>\n",
       "      <td>5</td>\n",
       "      <td>1</td>\n",
       "    </tr>\n",
       "    <tr>\n",
       "      <th>3</th>\n",
       "      <td>1998-07-01</td>\n",
       "      <td>QuakeWorld</td>\n",
       "      <td>6500.0</td>\n",
       "      <td>4</td>\n",
       "      <td>1</td>\n",
       "    </tr>\n",
       "    <tr>\n",
       "      <th>4</th>\n",
       "      <td>1998-11-01</td>\n",
       "      <td>Quake II</td>\n",
       "      <td>36600.0</td>\n",
       "      <td>13</td>\n",
       "      <td>2</td>\n",
       "    </tr>\n",
       "  </tbody>\n",
       "</table>\n",
       "</div>"
      ],
      "text/plain": [
       "         Date        Game  Earnings  Players  Tournaments\n",
       "0  1998-01-01  QuakeWorld   15000.0        8            1\n",
       "1  1998-05-01    Quake II   14600.0        4            1\n",
       "2  1998-07-01    Quake II   15000.0        5            1\n",
       "3  1998-07-01  QuakeWorld    6500.0        4            1\n",
       "4  1998-11-01    Quake II   36600.0       13            2"
      ]
     },
     "execution_count": 2,
     "metadata": {},
     "output_type": "execute_result"
    }
   ],
   "source": [
    "# the sport's data is about earning of e-game players\n",
    "df = pd.read_csv(\"HistoricalEsportData.csv\")\n",
    "df.head()"
   ]
  },
  {
   "cell_type": "code",
   "execution_count": 3,
   "id": "699a6cde",
   "metadata": {},
   "outputs": [
    {
     "data": {
      "text/plain": [
       "(7012, 5)"
      ]
     },
     "execution_count": 3,
     "metadata": {},
     "output_type": "execute_result"
    }
   ],
   "source": [
    "df.shape"
   ]
  },
  {
   "cell_type": "code",
   "execution_count": 4,
   "id": "19371f83",
   "metadata": {},
   "outputs": [
    {
     "data": {
      "text/plain": [
       "Date           0\n",
       "Game           0\n",
       "Earnings       0\n",
       "Players        0\n",
       "Tournaments    0\n",
       "dtype: int64"
      ]
     },
     "execution_count": 4,
     "metadata": {},
     "output_type": "execute_result"
    }
   ],
   "source": [
    "df.isna().sum()"
   ]
  },
  {
   "cell_type": "code",
   "execution_count": 5,
   "id": "f7768517",
   "metadata": {},
   "outputs": [
    {
     "data": {
      "text/plain": [
       "count    7.012000e+03\n",
       "mean     1.471553e+05\n",
       "std      9.258377e+05\n",
       "min      0.000000e+00\n",
       "25%      9.847575e+02\n",
       "50%      8.873090e+03\n",
       "75%      5.517293e+04\n",
       "max      3.671356e+07\n",
       "Name: Earnings, dtype: float64"
      ]
     },
     "execution_count": 5,
     "metadata": {},
     "output_type": "execute_result"
    }
   ],
   "source": [
    "df.Earnings.describe()"
   ]
  },
  {
   "cell_type": "code",
   "execution_count": 14,
   "id": "e941f65f",
   "metadata": {},
   "outputs": [
    {
     "data": {
      "text/plain": [
       "<bound method Series.unique of 0                       QuakeWorld\n",
       "1                         Quake II\n",
       "2                         Quake II\n",
       "3                       QuakeWorld\n",
       "4                         Quake II\n",
       "                   ...            \n",
       "7007             Age of Empires II\n",
       "7008             Trackmania (2020)\n",
       "7009                    Diabotical\n",
       "7010    Super Smash Bros. Ultimate\n",
       "7011                    Brawlhalla\n",
       "Name: Game, Length: 7012, dtype: object>"
      ]
     },
     "execution_count": 14,
     "metadata": {},
     "output_type": "execute_result"
    }
   ],
   "source": [
    "df.Game.unique"
   ]
  },
  {
   "cell_type": "code",
   "execution_count": 15,
   "id": "4ecb9ca6",
   "metadata": {},
   "outputs": [
    {
     "data": {
      "text/plain": [
       "count    7012.000000\n",
       "mean       52.709641\n",
       "std       119.655604\n",
       "min         0.000000\n",
       "25%         5.000000\n",
       "50%        15.000000\n",
       "75%        44.000000\n",
       "max      1699.000000\n",
       "Name: Players, dtype: float64"
      ]
     },
     "execution_count": 15,
     "metadata": {},
     "output_type": "execute_result"
    }
   ],
   "source": [
    "df.Players.describe()"
   ]
  },
  {
   "cell_type": "code",
   "execution_count": 16,
   "id": "ea0afd2c",
   "metadata": {},
   "outputs": [
    {
     "data": {
      "text/plain": [
       "count    7012.000000\n",
       "mean        6.546492\n",
       "std        12.236239\n",
       "min         1.000000\n",
       "25%         1.000000\n",
       "50%         2.000000\n",
       "75%         6.000000\n",
       "max       172.000000\n",
       "Name: Tournaments, dtype: float64"
      ]
     },
     "execution_count": 16,
     "metadata": {},
     "output_type": "execute_result"
    }
   ],
   "source": [
    "df.Tournaments.describe()"
   ]
  },
  {
   "cell_type": "code",
   "execution_count": 17,
   "id": "38f033d7",
   "metadata": {},
   "outputs": [
    {
     "data": {
      "text/plain": [
       "147155.265"
      ]
     },
     "execution_count": 17,
     "metadata": {},
     "output_type": "execute_result"
    }
   ],
   "source": [
    "df_mean = round(df.mean(), 3)\n",
    "df_mean[\"Earnings\"] "
   ]
  },
  {
   "cell_type": "code",
   "execution_count": 18,
   "id": "5dc95068",
   "metadata": {},
   "outputs": [
    {
     "data": {
      "text/plain": [
       "8873.09"
      ]
     },
     "execution_count": 18,
     "metadata": {},
     "output_type": "execute_result"
    }
   ],
   "source": [
    "# The value in the middle of the rest of values is 8.873,09, when they are in order\n",
    "df_median = round(df.median(), 3)\n",
    "df_median[\"Earnings\"]"
   ]
  },
  {
   "cell_type": "code",
   "execution_count": 19,
   "id": "010ae8dd",
   "metadata": {},
   "outputs": [
    {
     "data": {
      "text/plain": [
       "0    0.0\n",
       "Name: Earnings, dtype: float64"
      ]
     },
     "execution_count": 19,
     "metadata": {},
     "output_type": "execute_result"
    }
   ],
   "source": [
    "# 0,0 is the most frequently occurring number  \n",
    "df_mode = round(df.mode(), 3)\n",
    "df_mode[\"Earnings\"]"
   ]
  },
  {
   "cell_type": "code",
   "execution_count": 20,
   "id": "c5739a94",
   "metadata": {},
   "outputs": [
    {
     "data": {
      "text/plain": [
       "925837.733"
      ]
     },
     "execution_count": 20,
     "metadata": {},
     "output_type": "execute_result"
    }
   ],
   "source": [
    "# the average distance between each quantity and mean is 925837,733, that means that there are a big distance.\n",
    "df_std =round(df.std(),3)\n",
    "df_std[\"Earnings\"]"
   ]
  },
  {
   "cell_type": "code",
   "execution_count": 21,
   "id": "6f0da470",
   "metadata": {},
   "outputs": [
    {
     "data": {
      "text/plain": [
       "Text(0.5, 1.0, 'Earnings distribution (in millions of USD)')"
      ]
     },
     "execution_count": 21,
     "metadata": {},
     "output_type": "execute_result"
    },
    {
     "data": {
      "image/png": "[encoded data removed]",
      "text/plain": [
       "<Figure size 1080x360 with 1 Axes>"
      ]
     },
     "metadata": {
      "needs_background": "light"
     },
     "output_type": "display_data"
    }
   ],
   "source": [
    "# The graphic let us know the distribution of the descriptive statistics\n",
    "import seaborn as sns\n",
    "fig, ax = plt.subplots(figsize = (15, 5))\n",
    "sns.set_theme(style=\"whitegrid\")\n",
    "ax = sns.boxplot(x= df[\"Earnings\"])\n",
    "plt.title(\"Earnings distribution (in millions of USD)\")"
   ]
  },
  {
   "cell_type": "code",
   "execution_count": 22,
   "id": "5ed38f15",
   "metadata": {},
   "outputs": [
    {
     "data": {
      "text/plain": [
       "Text(0.5, 1.0, 'Earnings distribution (in millions of USD)')"
      ]
     },
     "execution_count": 22,
     "metadata": {},
     "output_type": "execute_result"
    },
    {
     "data": {
      "image/png": "[encoded data removed]",
      "text/plain": [
       "<Figure size 1080x360 with 1 Axes>"
      ]
     },
     "metadata": {},
     "output_type": "display_data"
    }
   ],
   "source": [
    "#this graph is much more clean but less clear when we have the outliers.\n",
    "fig, ax = plt.subplots(figsize = (15, 5))\n",
    "sns.violinplot(data=df, x='Earnings')\n",
    "plt.title(\"Earnings distribution (in millions of USD)\")"
   ]
  },
  {
   "cell_type": "markdown",
   "id": "c5ea518e",
   "metadata": {},
   "source": [
    "## Nivell 1. Exercici 2\n",
    "### Continuant amb les dades de tema esportiu, selecciona dos atributs i calcula'n la seva correlació. "
   ]
  },
  {
   "cell_type": "code",
   "execution_count": 23,
   "id": "2f242462",
   "metadata": {},
   "outputs": [
    {
     "data": {
      "text/plain": [
       "0.7370701910880015"
      ]
     },
     "execution_count": 23,
     "metadata": {},
     "output_type": "execute_result"
    }
   ],
   "source": [
    "correlation_series = df['Tournaments'].corr(df['Players'])\n",
    "correlation_series"
   ]
  },
  {
   "cell_type": "code",
   "execution_count": 24,
   "id": "ef777a7e",
   "metadata": {},
   "outputs": [
    {
     "data": {
      "text/plain": [
       "<AxesSubplot:>"
      ]
     },
     "execution_count": 24,
     "metadata": {},
     "output_type": "execute_result"
    },
    {
     "data": {
      "image/png": "[encoded data removed]",
      "text/plain": [
       "<Figure size 432x288 with 2 Axes>"
      ]
     },
     "metadata": {},
     "output_type": "display_data"
    }
   ],
   "source": [
    "# we plot the correlation of the Tournaments with other variables.\n",
    "upp_mat = np.triu(df.corr())\n",
    "\n",
    "sns.heatmap(df.corr()[['Tournaments']], vmin = -1, vmax = +1, annot = True, cmap = 'coolwarm')"
   ]
  },
  {
   "cell_type": "markdown",
   "id": "61213eed",
   "metadata": {},
   "source": [
    "#### The correlation between the two variables are very low 0.197"
   ]
  },
  {
   "cell_type": "markdown",
   "id": "8334a627",
   "metadata": {},
   "source": [
    "## Nivell 2. Exercici 3\n",
    "### Continuant amb les dades de tema esportiu, calcula la correlació de tots els atributs entre sí i representa'ls en una matriu amb diferents colors d'intensitat."
   ]
  },
  {
   "cell_type": "code",
   "execution_count": 25,
   "id": "1d45636a",
   "metadata": {},
   "outputs": [
    {
     "data": {
      "text/html": [
       "<div>\n",
       "<style scoped>\n",
       "    .dataframe tbody tr th:only-of-type {\n",
       "        vertical-align: middle;\n",
       "    }\n",
       "\n",
       "    .dataframe tbody tr th {\n",
       "        vertical-align: top;\n",
       "    }\n",
       "\n",
       "    .dataframe thead th {\n",
       "        text-align: right;\n",
       "    }\n",
       "</style>\n",
       "<table border=\"1\" class=\"dataframe\">\n",
       "  <thead>\n",
       "    <tr style=\"text-align: right;\">\n",
       "      <th></th>\n",
       "      <th>Earnings</th>\n",
       "      <th>Players</th>\n",
       "      <th>Tournaments</th>\n",
       "    </tr>\n",
       "  </thead>\n",
       "  <tbody>\n",
       "    <tr>\n",
       "      <th>Earnings</th>\n",
       "      <td>1.000000</td>\n",
       "      <td>0.354313</td>\n",
       "      <td>0.19705</td>\n",
       "    </tr>\n",
       "    <tr>\n",
       "      <th>Players</th>\n",
       "      <td>0.354313</td>\n",
       "      <td>1.000000</td>\n",
       "      <td>0.73707</td>\n",
       "    </tr>\n",
       "    <tr>\n",
       "      <th>Tournaments</th>\n",
       "      <td>0.197050</td>\n",
       "      <td>0.737070</td>\n",
       "      <td>1.00000</td>\n",
       "    </tr>\n",
       "  </tbody>\n",
       "</table>\n",
       "</div>"
      ],
      "text/plain": [
       "             Earnings   Players  Tournaments\n",
       "Earnings     1.000000  0.354313      0.19705\n",
       "Players      0.354313  1.000000      0.73707\n",
       "Tournaments  0.197050  0.737070      1.00000"
      ]
     },
     "execution_count": 25,
     "metadata": {},
     "output_type": "execute_result"
    }
   ],
   "source": [
    "# We have the same result because the dataFrame has only two numeric variables\n",
    "coor = df.corr()\n",
    "coor"
   ]
  },
  {
   "cell_type": "code",
   "execution_count": 26,
   "id": "b91a60a4",
   "metadata": {},
   "outputs": [
    {
     "data": {
      "text/html": [
       "<div>\n",
       "<style scoped>\n",
       "    .dataframe tbody tr th:only-of-type {\n",
       "        vertical-align: middle;\n",
       "    }\n",
       "\n",
       "    .dataframe tbody tr th {\n",
       "        vertical-align: top;\n",
       "    }\n",
       "\n",
       "    .dataframe thead th {\n",
       "        text-align: right;\n",
       "    }\n",
       "</style>\n",
       "<table border=\"1\" class=\"dataframe\">\n",
       "  <thead>\n",
       "    <tr style=\"text-align: right;\">\n",
       "      <th></th>\n",
       "      <th>Date</th>\n",
       "      <th>Game</th>\n",
       "      <th>Earnings</th>\n",
       "      <th>Players</th>\n",
       "      <th>Tournaments</th>\n",
       "      <th>year</th>\n",
       "      <th>month</th>\n",
       "    </tr>\n",
       "  </thead>\n",
       "  <tbody>\n",
       "    <tr>\n",
       "      <th>0</th>\n",
       "      <td>1998-01-01</td>\n",
       "      <td>QuakeWorld</td>\n",
       "      <td>15000.00</td>\n",
       "      <td>8</td>\n",
       "      <td>1</td>\n",
       "      <td>1998</td>\n",
       "      <td>1</td>\n",
       "    </tr>\n",
       "    <tr>\n",
       "      <th>1</th>\n",
       "      <td>1998-05-01</td>\n",
       "      <td>Quake II</td>\n",
       "      <td>14600.00</td>\n",
       "      <td>4</td>\n",
       "      <td>1</td>\n",
       "      <td>1998</td>\n",
       "      <td>5</td>\n",
       "    </tr>\n",
       "    <tr>\n",
       "      <th>2</th>\n",
       "      <td>1998-07-01</td>\n",
       "      <td>Quake II</td>\n",
       "      <td>15000.00</td>\n",
       "      <td>5</td>\n",
       "      <td>1</td>\n",
       "      <td>1998</td>\n",
       "      <td>7</td>\n",
       "    </tr>\n",
       "    <tr>\n",
       "      <th>3</th>\n",
       "      <td>1998-07-01</td>\n",
       "      <td>QuakeWorld</td>\n",
       "      <td>6500.00</td>\n",
       "      <td>4</td>\n",
       "      <td>1</td>\n",
       "      <td>1998</td>\n",
       "      <td>7</td>\n",
       "    </tr>\n",
       "    <tr>\n",
       "      <th>4</th>\n",
       "      <td>1998-11-01</td>\n",
       "      <td>Quake II</td>\n",
       "      <td>36600.00</td>\n",
       "      <td>13</td>\n",
       "      <td>2</td>\n",
       "      <td>1998</td>\n",
       "      <td>11</td>\n",
       "    </tr>\n",
       "    <tr>\n",
       "      <th>...</th>\n",
       "      <td>...</td>\n",
       "      <td>...</td>\n",
       "      <td>...</td>\n",
       "      <td>...</td>\n",
       "      <td>...</td>\n",
       "      <td>...</td>\n",
       "      <td>...</td>\n",
       "    </tr>\n",
       "    <tr>\n",
       "      <th>7007</th>\n",
       "      <td>2021-10-01</td>\n",
       "      <td>Age of Empires II</td>\n",
       "      <td>3669.00</td>\n",
       "      <td>4</td>\n",
       "      <td>2</td>\n",
       "      <td>2021</td>\n",
       "      <td>10</td>\n",
       "    </tr>\n",
       "    <tr>\n",
       "      <th>7008</th>\n",
       "      <td>2021-10-01</td>\n",
       "      <td>Trackmania (2020)</td>\n",
       "      <td>2097.14</td>\n",
       "      <td>8</td>\n",
       "      <td>3</td>\n",
       "      <td>2021</td>\n",
       "      <td>10</td>\n",
       "    </tr>\n",
       "    <tr>\n",
       "      <th>7009</th>\n",
       "      <td>2021-10-01</td>\n",
       "      <td>Diabotical</td>\n",
       "      <td>2012.96</td>\n",
       "      <td>24</td>\n",
       "      <td>5</td>\n",
       "      <td>2021</td>\n",
       "      <td>10</td>\n",
       "    </tr>\n",
       "    <tr>\n",
       "      <th>7010</th>\n",
       "      <td>2021-10-01</td>\n",
       "      <td>Super Smash Bros. Ultimate</td>\n",
       "      <td>359.41</td>\n",
       "      <td>4</td>\n",
       "      <td>1</td>\n",
       "      <td>2021</td>\n",
       "      <td>10</td>\n",
       "    </tr>\n",
       "    <tr>\n",
       "      <th>7011</th>\n",
       "      <td>2021-10-01</td>\n",
       "      <td>Brawlhalla</td>\n",
       "      <td>70.00</td>\n",
       "      <td>3</td>\n",
       "      <td>1</td>\n",
       "      <td>2021</td>\n",
       "      <td>10</td>\n",
       "    </tr>\n",
       "  </tbody>\n",
       "</table>\n",
       "<p>7012 rows × 7 columns</p>\n",
       "</div>"
      ],
      "text/plain": [
       "            Date                        Game  Earnings  Players  Tournaments  \\\n",
       "0     1998-01-01                  QuakeWorld  15000.00        8            1   \n",
       "1     1998-05-01                    Quake II  14600.00        4            1   \n",
       "2     1998-07-01                    Quake II  15000.00        5            1   \n",
       "3     1998-07-01                  QuakeWorld   6500.00        4            1   \n",
       "4     1998-11-01                    Quake II  36600.00       13            2   \n",
       "...          ...                         ...       ...      ...          ...   \n",
       "7007  2021-10-01           Age of Empires II   3669.00        4            2   \n",
       "7008  2021-10-01           Trackmania (2020)   2097.14        8            3   \n",
       "7009  2021-10-01                  Diabotical   2012.96       24            5   \n",
       "7010  2021-10-01  Super Smash Bros. Ultimate    359.41        4            1   \n",
       "7011  2021-10-01                  Brawlhalla     70.00        3            1   \n",
       "\n",
       "      year  month  \n",
       "0     1998      1  \n",
       "1     1998      5  \n",
       "2     1998      7  \n",
       "3     1998      7  \n",
       "4     1998     11  \n",
       "...    ...    ...  \n",
       "7007  2021     10  \n",
       "7008  2021     10  \n",
       "7009  2021     10  \n",
       "7010  2021     10  \n",
       "7011  2021     10  \n",
       "\n",
       "[7012 rows x 7 columns]"
      ]
     },
     "execution_count": 26,
     "metadata": {},
     "output_type": "execute_result"
    }
   ],
   "source": [
    "# creating three more variables from Date column, just to see if there is a correlation with year\n",
    "\n",
    "df['year'] = pd.DatetimeIndex(df['Date']).year\n",
    "df['month'] = pd.DatetimeIndex(df['Date']).month\n",
    "df"
   ]
  },
  {
   "cell_type": "code",
   "execution_count": 27,
   "id": "82735c07",
   "metadata": {},
   "outputs": [
    {
     "data": {
      "text/html": [
       "<div>\n",
       "<style scoped>\n",
       "    .dataframe tbody tr th:only-of-type {\n",
       "        vertical-align: middle;\n",
       "    }\n",
       "\n",
       "    .dataframe tbody tr th {\n",
       "        vertical-align: top;\n",
       "    }\n",
       "\n",
       "    .dataframe thead th {\n",
       "        text-align: right;\n",
       "    }\n",
       "</style>\n",
       "<table border=\"1\" class=\"dataframe\">\n",
       "  <thead>\n",
       "    <tr style=\"text-align: right;\">\n",
       "      <th></th>\n",
       "      <th>Earnings</th>\n",
       "      <th>Players</th>\n",
       "      <th>Tournaments</th>\n",
       "      <th>year</th>\n",
       "      <th>month</th>\n",
       "    </tr>\n",
       "  </thead>\n",
       "  <tbody>\n",
       "    <tr>\n",
       "      <th>Earnings</th>\n",
       "      <td>1.000000</td>\n",
       "      <td>0.354313</td>\n",
       "      <td>0.197050</td>\n",
       "      <td>0.078139</td>\n",
       "      <td>0.030768</td>\n",
       "    </tr>\n",
       "    <tr>\n",
       "      <th>Players</th>\n",
       "      <td>0.354313</td>\n",
       "      <td>1.000000</td>\n",
       "      <td>0.737070</td>\n",
       "      <td>0.137403</td>\n",
       "      <td>0.027921</td>\n",
       "    </tr>\n",
       "    <tr>\n",
       "      <th>Tournaments</th>\n",
       "      <td>0.197050</td>\n",
       "      <td>0.737070</td>\n",
       "      <td>1.000000</td>\n",
       "      <td>0.097161</td>\n",
       "      <td>0.006257</td>\n",
       "    </tr>\n",
       "    <tr>\n",
       "      <th>year</th>\n",
       "      <td>0.078139</td>\n",
       "      <td>0.137403</td>\n",
       "      <td>0.097161</td>\n",
       "      <td>1.000000</td>\n",
       "      <td>-0.106144</td>\n",
       "    </tr>\n",
       "    <tr>\n",
       "      <th>month</th>\n",
       "      <td>0.030768</td>\n",
       "      <td>0.027921</td>\n",
       "      <td>0.006257</td>\n",
       "      <td>-0.106144</td>\n",
       "      <td>1.000000</td>\n",
       "    </tr>\n",
       "  </tbody>\n",
       "</table>\n",
       "</div>"
      ],
      "text/plain": [
       "             Earnings   Players  Tournaments      year     month\n",
       "Earnings     1.000000  0.354313     0.197050  0.078139  0.030768\n",
       "Players      0.354313  1.000000     0.737070  0.137403  0.027921\n",
       "Tournaments  0.197050  0.737070     1.000000  0.097161  0.006257\n",
       "year         0.078139  0.137403     0.097161  1.000000 -0.106144\n",
       "month        0.030768  0.027921     0.006257 -0.106144  1.000000"
      ]
     },
     "execution_count": 27,
     "metadata": {},
     "output_type": "execute_result"
    }
   ],
   "source": [
    "coor = df.corr()\n",
    "coor"
   ]
  },
  {
   "cell_type": "code",
   "execution_count": 28,
   "id": "270e04a1",
   "metadata": {},
   "outputs": [
    {
     "data": {
      "text/plain": [
       "<AxesSubplot:>"
      ]
     },
     "execution_count": 28,
     "metadata": {},
     "output_type": "execute_result"
    },
    {
     "data": {
      "image/png": "[encoded data removed]",
      "text/plain": [
       "<Figure size 432x288 with 2 Axes>"
      ]
     },
     "metadata": {},
     "output_type": "display_data"
    }
   ],
   "source": [
    "# Compute the correlation matrix\n",
    "upp_mat = np.triu(df.corr())\n",
    "sns.heatmap(df.corr(), vmin = -1, vmax = +1, annot = True, cmap = 'coolwarm', mask = upp_mat)"
   ]
  },
  {
   "cell_type": "markdown",
   "id": "fc31a14f",
   "metadata": {},
   "source": [
    "## Nivell 3. Exercici 4\n",
    "### Continuant amb les dades de tema esportiu, selecciona un atribut i calcula la mitjana geomètrica i la mitjana harmònica."
   ]
  },
  {
   "cell_type": "code",
   "execution_count": 29,
   "id": "c60ee138",
   "metadata": {},
   "outputs": [
    {
     "data": {
      "text/html": [
       "<div>\n",
       "<style scoped>\n",
       "    .dataframe tbody tr th:only-of-type {\n",
       "        vertical-align: middle;\n",
       "    }\n",
       "\n",
       "    .dataframe tbody tr th {\n",
       "        vertical-align: top;\n",
       "    }\n",
       "\n",
       "    .dataframe thead th {\n",
       "        text-align: right;\n",
       "    }\n",
       "</style>\n",
       "<table border=\"1\" class=\"dataframe\">\n",
       "  <thead>\n",
       "    <tr style=\"text-align: right;\">\n",
       "      <th></th>\n",
       "      <th>Date</th>\n",
       "      <th>Game</th>\n",
       "      <th>Earnings</th>\n",
       "      <th>Players</th>\n",
       "      <th>Tournaments</th>\n",
       "      <th>year</th>\n",
       "      <th>month</th>\n",
       "    </tr>\n",
       "  </thead>\n",
       "  <tbody>\n",
       "    <tr>\n",
       "      <th>7007</th>\n",
       "      <td>2021-10-01</td>\n",
       "      <td>Age of Empires II</td>\n",
       "      <td>3669.00</td>\n",
       "      <td>4</td>\n",
       "      <td>2</td>\n",
       "      <td>2021</td>\n",
       "      <td>10</td>\n",
       "    </tr>\n",
       "    <tr>\n",
       "      <th>7008</th>\n",
       "      <td>2021-10-01</td>\n",
       "      <td>Trackmania (2020)</td>\n",
       "      <td>2097.14</td>\n",
       "      <td>8</td>\n",
       "      <td>3</td>\n",
       "      <td>2021</td>\n",
       "      <td>10</td>\n",
       "    </tr>\n",
       "    <tr>\n",
       "      <th>7009</th>\n",
       "      <td>2021-10-01</td>\n",
       "      <td>Diabotical</td>\n",
       "      <td>2012.96</td>\n",
       "      <td>24</td>\n",
       "      <td>5</td>\n",
       "      <td>2021</td>\n",
       "      <td>10</td>\n",
       "    </tr>\n",
       "    <tr>\n",
       "      <th>7010</th>\n",
       "      <td>2021-10-01</td>\n",
       "      <td>Super Smash Bros. Ultimate</td>\n",
       "      <td>359.41</td>\n",
       "      <td>4</td>\n",
       "      <td>1</td>\n",
       "      <td>2021</td>\n",
       "      <td>10</td>\n",
       "    </tr>\n",
       "    <tr>\n",
       "      <th>7011</th>\n",
       "      <td>2021-10-01</td>\n",
       "      <td>Brawlhalla</td>\n",
       "      <td>70.00</td>\n",
       "      <td>3</td>\n",
       "      <td>1</td>\n",
       "      <td>2021</td>\n",
       "      <td>10</td>\n",
       "    </tr>\n",
       "  </tbody>\n",
       "</table>\n",
       "</div>"
      ],
      "text/plain": [
       "            Date                        Game  Earnings  Players  Tournaments  \\\n",
       "7007  2021-10-01           Age of Empires II   3669.00        4            2   \n",
       "7008  2021-10-01           Trackmania (2020)   2097.14        8            3   \n",
       "7009  2021-10-01                  Diabotical   2012.96       24            5   \n",
       "7010  2021-10-01  Super Smash Bros. Ultimate    359.41        4            1   \n",
       "7011  2021-10-01                  Brawlhalla     70.00        3            1   \n",
       "\n",
       "      year  month  \n",
       "7007  2021     10  \n",
       "7008  2021     10  \n",
       "7009  2021     10  \n",
       "7010  2021     10  \n",
       "7011  2021     10  "
      ]
     },
     "execution_count": 29,
     "metadata": {},
     "output_type": "execute_result"
    }
   ],
   "source": [
    "df.tail()"
   ]
  },
  {
   "cell_type": "code",
   "execution_count": 30,
   "id": "929c222b",
   "metadata": {},
   "outputs": [
    {
     "data": {
      "text/html": [
       "<div>\n",
       "<style scoped>\n",
       "    .dataframe tbody tr th:only-of-type {\n",
       "        vertical-align: middle;\n",
       "    }\n",
       "\n",
       "    .dataframe tbody tr th {\n",
       "        vertical-align: top;\n",
       "    }\n",
       "\n",
       "    .dataframe thead th {\n",
       "        text-align: right;\n",
       "    }\n",
       "</style>\n",
       "<table border=\"1\" class=\"dataframe\">\n",
       "  <thead>\n",
       "    <tr style=\"text-align: right;\">\n",
       "      <th></th>\n",
       "      <th>year</th>\n",
       "      <th>Earnings</th>\n",
       "      <th>Players</th>\n",
       "    </tr>\n",
       "  </thead>\n",
       "  <tbody>\n",
       "    <tr>\n",
       "      <th>0</th>\n",
       "      <td>1998</td>\n",
       "      <td>15000.00</td>\n",
       "      <td>8</td>\n",
       "    </tr>\n",
       "    <tr>\n",
       "      <th>1</th>\n",
       "      <td>1998</td>\n",
       "      <td>14600.00</td>\n",
       "      <td>4</td>\n",
       "    </tr>\n",
       "    <tr>\n",
       "      <th>2</th>\n",
       "      <td>1998</td>\n",
       "      <td>15000.00</td>\n",
       "      <td>5</td>\n",
       "    </tr>\n",
       "    <tr>\n",
       "      <th>3</th>\n",
       "      <td>1998</td>\n",
       "      <td>6500.00</td>\n",
       "      <td>4</td>\n",
       "    </tr>\n",
       "    <tr>\n",
       "      <th>4</th>\n",
       "      <td>1998</td>\n",
       "      <td>36600.00</td>\n",
       "      <td>13</td>\n",
       "    </tr>\n",
       "    <tr>\n",
       "      <th>...</th>\n",
       "      <td>...</td>\n",
       "      <td>...</td>\n",
       "      <td>...</td>\n",
       "    </tr>\n",
       "    <tr>\n",
       "      <th>7007</th>\n",
       "      <td>2021</td>\n",
       "      <td>3669.00</td>\n",
       "      <td>4</td>\n",
       "    </tr>\n",
       "    <tr>\n",
       "      <th>7008</th>\n",
       "      <td>2021</td>\n",
       "      <td>2097.14</td>\n",
       "      <td>8</td>\n",
       "    </tr>\n",
       "    <tr>\n",
       "      <th>7009</th>\n",
       "      <td>2021</td>\n",
       "      <td>2012.96</td>\n",
       "      <td>24</td>\n",
       "    </tr>\n",
       "    <tr>\n",
       "      <th>7010</th>\n",
       "      <td>2021</td>\n",
       "      <td>359.41</td>\n",
       "      <td>4</td>\n",
       "    </tr>\n",
       "    <tr>\n",
       "      <th>7011</th>\n",
       "      <td>2021</td>\n",
       "      <td>70.00</td>\n",
       "      <td>3</td>\n",
       "    </tr>\n",
       "  </tbody>\n",
       "</table>\n",
       "<p>7012 rows × 3 columns</p>\n",
       "</div>"
      ],
      "text/plain": [
       "      year  Earnings  Players\n",
       "0     1998  15000.00        8\n",
       "1     1998  14600.00        4\n",
       "2     1998  15000.00        5\n",
       "3     1998   6500.00        4\n",
       "4     1998  36600.00       13\n",
       "...    ...       ...      ...\n",
       "7007  2021   3669.00        4\n",
       "7008  2021   2097.14        8\n",
       "7009  2021   2012.96       24\n",
       "7010  2021    359.41        4\n",
       "7011  2021     70.00        3\n",
       "\n",
       "[7012 rows x 3 columns]"
      ]
     },
     "execution_count": 30,
     "metadata": {},
     "output_type": "execute_result"
    }
   ],
   "source": [
    "df_extract = df[[\"year\", \"Earnings\", \"Players\"]]\n",
    "df_extract"
   ]
  },
  {
   "cell_type": "code",
   "execution_count": 31,
   "id": "70cf5335",
   "metadata": {},
   "outputs": [
    {
     "data": {
      "text/plain": [
       "count    7.012000e+03\n",
       "mean     1.471553e+05\n",
       "std      9.258377e+05\n",
       "min      0.000000e+00\n",
       "25%      9.847575e+02\n",
       "50%      8.873090e+03\n",
       "75%      5.517293e+04\n",
       "max      3.671356e+07\n",
       "Name: Earnings, dtype: float64"
      ]
     },
     "execution_count": 31,
     "metadata": {},
     "output_type": "execute_result"
    }
   ],
   "source": [
    "df_extract.Earnings.describe()"
   ]
  },
  {
   "cell_type": "code",
   "execution_count": 32,
   "id": "97069bc0",
   "metadata": {},
   "outputs": [
    {
     "name": "stdout",
     "output_type": "stream",
     "text": [
      "columns has 0 as value: 175\n",
      "columns has 0 as value: 181\n"
     ]
    }
   ],
   "source": [
    "# In order to have the geometric and the harmonic mean I clean the columns with 0 values.\n",
    "# If not, the result will be always 0\n",
    "\n",
    "print(f'columns has 0 as value: {df_extract[df_extract.Players==0].Players.count()}')\n",
    "print(f'columns has 0 as value: {df_extract[df_extract.Earnings==0].Earnings.count()}')"
   ]
  },
  {
   "cell_type": "code",
   "execution_count": 33,
   "id": "eccd435e",
   "metadata": {},
   "outputs": [
    {
     "data": {
      "text/html": [
       "<div>\n",
       "<style scoped>\n",
       "    .dataframe tbody tr th:only-of-type {\n",
       "        vertical-align: middle;\n",
       "    }\n",
       "\n",
       "    .dataframe tbody tr th {\n",
       "        vertical-align: top;\n",
       "    }\n",
       "\n",
       "    .dataframe thead th {\n",
       "        text-align: right;\n",
       "    }\n",
       "</style>\n",
       "<table border=\"1\" class=\"dataframe\">\n",
       "  <thead>\n",
       "    <tr style=\"text-align: right;\">\n",
       "      <th></th>\n",
       "      <th>year</th>\n",
       "      <th>Earnings</th>\n",
       "      <th>Players</th>\n",
       "    </tr>\n",
       "  </thead>\n",
       "  <tbody>\n",
       "    <tr>\n",
       "      <th>0</th>\n",
       "      <td>1998</td>\n",
       "      <td>15000.00</td>\n",
       "      <td>8</td>\n",
       "    </tr>\n",
       "    <tr>\n",
       "      <th>1</th>\n",
       "      <td>1998</td>\n",
       "      <td>14600.00</td>\n",
       "      <td>4</td>\n",
       "    </tr>\n",
       "    <tr>\n",
       "      <th>2</th>\n",
       "      <td>1998</td>\n",
       "      <td>15000.00</td>\n",
       "      <td>5</td>\n",
       "    </tr>\n",
       "    <tr>\n",
       "      <th>3</th>\n",
       "      <td>1998</td>\n",
       "      <td>6500.00</td>\n",
       "      <td>4</td>\n",
       "    </tr>\n",
       "    <tr>\n",
       "      <th>4</th>\n",
       "      <td>1998</td>\n",
       "      <td>36600.00</td>\n",
       "      <td>13</td>\n",
       "    </tr>\n",
       "    <tr>\n",
       "      <th>...</th>\n",
       "      <td>...</td>\n",
       "      <td>...</td>\n",
       "      <td>...</td>\n",
       "    </tr>\n",
       "    <tr>\n",
       "      <th>7007</th>\n",
       "      <td>2021</td>\n",
       "      <td>3669.00</td>\n",
       "      <td>4</td>\n",
       "    </tr>\n",
       "    <tr>\n",
       "      <th>7008</th>\n",
       "      <td>2021</td>\n",
       "      <td>2097.14</td>\n",
       "      <td>8</td>\n",
       "    </tr>\n",
       "    <tr>\n",
       "      <th>7009</th>\n",
       "      <td>2021</td>\n",
       "      <td>2012.96</td>\n",
       "      <td>24</td>\n",
       "    </tr>\n",
       "    <tr>\n",
       "      <th>7010</th>\n",
       "      <td>2021</td>\n",
       "      <td>359.41</td>\n",
       "      <td>4</td>\n",
       "    </tr>\n",
       "    <tr>\n",
       "      <th>7011</th>\n",
       "      <td>2021</td>\n",
       "      <td>70.00</td>\n",
       "      <td>3</td>\n",
       "    </tr>\n",
       "  </tbody>\n",
       "</table>\n",
       "<p>6831 rows × 3 columns</p>\n",
       "</div>"
      ],
      "text/plain": [
       "      year  Earnings  Players\n",
       "0     1998  15000.00        8\n",
       "1     1998  14600.00        4\n",
       "2     1998  15000.00        5\n",
       "3     1998   6500.00        4\n",
       "4     1998  36600.00       13\n",
       "...    ...       ...      ...\n",
       "7007  2021   3669.00        4\n",
       "7008  2021   2097.14        8\n",
       "7009  2021   2012.96       24\n",
       "7010  2021    359.41        4\n",
       "7011  2021     70.00        3\n",
       "\n",
       "[6831 rows x 3 columns]"
      ]
     },
     "execution_count": 33,
     "metadata": {},
     "output_type": "execute_result"
    }
   ],
   "source": [
    "df2= df_extract[df_extract['Earnings'] != 0]\n",
    "df2"
   ]
  },
  {
   "cell_type": "code",
   "execution_count": 36,
   "id": "323cf87b",
   "metadata": {},
   "outputs": [
    {
     "name": "stdout",
     "output_type": "stream",
     "text": [
      "The geometric mean of Earnings is:  8595.059\n",
      "The harmonic mean of Earnings is:  609.5\n"
     ]
    }
   ],
   "source": [
    "print(f'The geometric mean of Earnings is: ',round(stats.gmean(df2['Earnings']),3))\n",
    "print(f'The harmonic mean of Earnings is: ',round(stats.hmean(df2['Earnings']),3))"
   ]
  }
 ],
 "metadata": {
  "kernelspec": {
   "display_name": "Python 3",
   "language": "python",
   "name": "python3"
  },
  "language_info": {
   "codemirror_mode": {
    "name": "ipython",
    "version": 3
   },
   "file_extension": ".py",
   "mimetype": "text/x-python",
   "name": "python",
   "nbconvert_exporter": "python",
   "pygments_lexer": "ipython3",
   "version": "3.8.8"
  },
  "latex_envs": {
   "LaTeX_envs_menu_present": true,
   "autoclose": false,
   "autocomplete": true,
   "bibliofile": "biblio.bib",
   "cite_by": "apalike",
   "current_citInitial": 1,
   "eqLabelWithNumbers": true,
   "eqNumInitial": 1,
   "hotkeys": {
    "equation": "Ctrl-E",
    "itemize": "Ctrl-I"
   },
   "labels_anchors": false,
   "latex_user_defs": false,
   "report_style_numbering": false,
   "user_envs_cfg": false
  }
 },
 "nbformat": 4,
 "nbformat_minor": 5
}
